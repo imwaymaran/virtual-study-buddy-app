{
 "cells": [
  {
   "cell_type": "markdown",
   "id": "e9d66017",
   "metadata": {},
   "source": [
    "## Setup"
   ]
  },
  {
   "cell_type": "code",
   "execution_count": null,
   "id": "cd48e960",
   "metadata": {},
   "outputs": [],
   "source": [
    "# Import Libraries\n",
    "import sqlite3\n",
    "import pandas as pd\n",
    "from datetime import datetime, timedelta"
   ]
  },
  {
   "cell_type": "code",
   "execution_count": 2,
   "id": "def945ef",
   "metadata": {},
   "outputs": [],
   "source": [
    "# Connect to the SQLite database\n",
    "# Make sure the path is correct. Adjust the path as needed.\n",
    "database = ('../data/processed/study_buddy.db')\n",
    "conn = sqlite3.connect(database)"
   ]
  },
  {
   "cell_type": "code",
   "execution_count": 3,
   "id": "d1eea642",
   "metadata": {},
   "outputs": [],
   "source": [
    "# Load tables into DataFrames\n",
    "\n",
    "# Load students\n",
    "df_students = pd.read_sql(\"SELECT * FROM students\", conn)\n",
    "\n",
    "# Load UTC study days\n",
    "df_utc_days = pd.read_sql(\"SELECT * FROM utc_study_days\", conn)\n",
    "\n"
   ]
  },
  {
   "cell_type": "markdown",
   "id": "7b0d615d",
   "metadata": {},
   "source": [
    "## Manual Scheduling Function"
   ]
  },
  {
   "cell_type": "code",
   "execution_count": 4,
   "id": "ef6be669",
   "metadata": {},
   "outputs": [],
   "source": [
    "def create_manual_session(conn, host_id, guest_id, day, start_time, end_time):\n",
    "    \"\"\"\n",
    "    Create a manually scheduled session by the host student.\n",
    "    \"\"\"\n",
    "    cursor = conn.cursor()\n",
    "    \n",
    "    cursor.execute(\"\"\"\n",
    "        INSERT INTO scheduled_sessions (\n",
    "            host_student_id,\n",
    "            guest_student_id,\n",
    "            day,\n",
    "            start_time,\n",
    "            end_time,\n",
    "            status\n",
    "        )\n",
    "        VALUES (?, ?, ?, ?, ?, 'pending');\n",
    "    \"\"\", (host_id, guest_id, day, start_time, end_time))\n",
    "    \n",
    "    # Optional: Create a notification\n",
    "    cursor.execute(\"\"\"\n",
    "        INSERT INTO notifications (\n",
    "            student_id, type, content, status, timestamp\n",
    "        ) VALUES (?, ?, ?, ?, datetime('now'))\n",
    "    \"\"\", (guest_id, 'invite', f\"{host_id} invited you to a study session on {day} at {start_time}\", 'unread'))\n",
    "    \n",
    "    conn.commit()\n",
    "    print(\"Manual session created and notification sent.\")\n"
   ]
  },
  {
   "cell_type": "markdown",
   "id": "270387f4",
   "metadata": {},
   "source": [
    "##  Smart Suggested Time Logic"
   ]
  },
  {
   "cell_type": "code",
   "execution_count": 5,
   "id": "8ecf6843",
   "metadata": {},
   "outputs": [],
   "source": [
    "def find_common_time_block(host, guest, df_students, df_utc_days):\n",
    "    \"\"\"\n",
    "    Finds overlapping study time blocks for two students based on UTC.\n",
    "    Returns a list of (day, start_time, end_time) tuples.\n",
    "    \"\"\"\n",
    "    host_days = set(df_utc_days[df_utc_days[\"student_id\"] == host][\"utc_day\"])\n",
    "    guest_days = set(df_utc_days[df_utc_days[\"student_id\"] == guest][\"utc_day\"])\n",
    "    common_days = host_days & guest_days\n",
    "\n",
    "    if not common_days:\n",
    "        return []\n",
    "\n",
    "    # Get time ranges\n",
    "    host_row = df_students[df_students[\"student_id\"] == host].iloc[0]\n",
    "    guest_row = df_students[df_students[\"student_id\"] == guest].iloc[0]\n",
    "    \n",
    "    host_start = datetime.strptime(host_row[\"utc_start_time\"], \"%H:%M\")\n",
    "    host_end = datetime.strptime(host_row[\"utc_end_time\"], \"%H:%M\")\n",
    "    \n",
    "    guest_start = datetime.strptime(guest_row[\"utc_start_time\"], \"%H:%M\")\n",
    "    guest_end = datetime.strptime(guest_row[\"utc_end_time\"], \"%H:%M\")\n",
    "\n",
    "    # Calculate overlapping time range\n",
    "    overlap_start = max(host_start, guest_start)\n",
    "    overlap_end = min(host_end, guest_end)\n",
    "\n",
    "    if overlap_start >= overlap_end:\n",
    "        return []  # no time overlap\n",
    "\n",
    "    # Return overlapping time for all common days\n",
    "    result = []\n",
    "    for day in common_days:\n",
    "        result.append((\n",
    "            day,\n",
    "            overlap_start.strftime(\"%H:%M\"),\n",
    "            overlap_end.strftime(\"%H:%M\")\n",
    "        ))\n",
    "    \n",
    "    return result\n"
   ]
  },
  {
   "cell_type": "markdown",
   "id": "b3ec1099",
   "metadata": {},
   "source": [
    "## Create Session from Smart Time"
   ]
  },
  {
   "cell_type": "code",
   "execution_count": null,
   "id": "5e319139",
   "metadata": {},
   "outputs": [],
   "source": [
    "def create_smart_session(conn, host_id, guest_id):\n",
    "    \"\"\"\n",
    "    Finds a smart time match and creates a scheduled session.\n",
    "    \"\"\"\n",
    "    matches = find_common_time_block(host_id, guest_id, df_students, df_utc_days)\n",
    "    \n",
    "    if not matches:\n",
    "        print(\"No overlapping study times found.\")\n",
    "        return\n",
    "\n",
    "    # Pick the first recommended slot\n",
    "    day, start_time, end_time = matches[0]\n",
    "    \n",
    "    cursor = conn.cursor()\n",
    "    cursor.execute(\"\"\"\n",
    "        INSERT INTO scheduled_sessions (\n",
    "            host_student_id,\n",
    "            guest_student_id,\n",
    "            day,\n",
    "            start_time,\n",
    "            end_time,\n",
    "            status\n",
    "        )\n",
    "        VALUES (?, ?, ?, ?, ?, 'pending');\n",
    "    \"\"\", (host_id, guest_id, day, start_time, end_time))\n",
    "\n",
    "    # Notification\n",
    "    cursor.execute(\"\"\"\n",
    "        INSERT INTO notifications (\n",
    "            student_id, type, content, status, timestamp\n",
    "        ) VALUES (?, ?, ?, ?, datetime('now'))\n",
    "    \"\"\", (guest_id, 'invite', f\"{host_id} auto-suggested a study session on {day} at {start_time}\", 'unread'))\n",
    "    \n",
    "    conn.commit()\n",
    "    print(f\"✅ Smart session created for {day} {start_time}-{end_time}\")\n"
   ]
  }
 ],
 "metadata": {
  "kernelspec": {
   "display_name": "ds",
   "language": "python",
   "name": "python3"
  },
  "language_info": {
   "codemirror_mode": {
    "name": "ipython",
    "version": 3
   },
   "file_extension": ".py",
   "mimetype": "text/x-python",
   "name": "python",
   "nbconvert_exporter": "python",
   "pygments_lexer": "ipython3",
   "version": "3.12.9"
  }
 },
 "nbformat": 4,
 "nbformat_minor": 5
}
